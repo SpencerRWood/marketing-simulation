{
 "cells": [
  {
   "cell_type": "code",
   "execution_count": 2,
   "id": "3053d267",
   "metadata": {},
   "outputs": [
    {
     "name": "stdout",
     "output_type": "stream",
     "text": [
      "🏃 View run run_2 at: http://mlflow:5000/#/experiments/1/runs/844731c4f71245a18f916d4a4d7d9731\n",
      "🧪 View experiment at: http://mlflow:5000/#/experiments/1\n",
      "Smoke test run completed successfully!\n"
     ]
    }
   ],
   "source": [
    "import mlflow\n",
    "from mlflow.tracking import MlflowClient\n",
    "import random\n",
    "\n",
    "experiment_name = \"SmokeTestExperiment\"\n",
    "\n",
    "mlflow.set_tracking_uri(\"http://mlflow:5000/\")\n",
    "mlflow.set_experiment(experiment_name)\n",
    "\n",
    "client = MlflowClient()\n",
    "experiment = client.get_experiment_by_name(experiment_name)\n",
    "\n",
    "# Count existing runs in the experiment\n",
    "runs = client.search_runs([experiment.experiment_id])\n",
    "next_run_number = len(runs) + 1\n",
    "run_name = f\"run_{next_run_number}\"\n",
    "\n",
    "# Start a run\n",
    "with mlflow.start_run(run_name=run_name):\n",
    "    # Log a parameter\n",
    "    mlflow.log_param(\"param1\", 5)\n",
    "\n",
    "    # Log a metric\n",
    "    for step in range(5):\n",
    "        mlflow.log_metric(\"random_metric\", random.random(), step=step)\n",
    "\n",
    "    # Log an artifact (small text file)\n",
    "    with open(\"test_artifact.txt\", \"w\") as f:\n",
    "        f.write(\"Hello MLflow\")\n",
    "    mlflow.log_artifact(\"test_artifact.txt\")\n",
    "\n",
    "print(\"Smoke test run completed successfully!\")"
   ]
  },
  {
   "cell_type": "code",
   "execution_count": null,
   "id": "d618248f",
   "metadata": {},
   "outputs": [],
   "source": []
  }
 ],
 "metadata": {
  "kernelspec": {
   "display_name": "Python 3",
   "language": "python",
   "name": "python3"
  },
  "language_info": {
   "codemirror_mode": {
    "name": "ipython",
    "version": 3
   },
   "file_extension": ".py",
   "mimetype": "text/x-python",
   "name": "python",
   "nbconvert_exporter": "python",
   "pygments_lexer": "ipython3",
   "version": "3.12.11"
  }
 },
 "nbformat": 4,
 "nbformat_minor": 5
}
