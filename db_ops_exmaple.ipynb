{
 "cells": [
  {
   "cell_type": "code",
   "execution_count": null,
   "id": "f30cf793",
   "metadata": {},
   "outputs": [],
   "source": [
    "##TODO: Add Pydantic\n",
    "##TODO: Add postgres connection and create an example table\n",
    "from dataclasses import dataclass\n",
    "from sqlalchemy import create_engine, Column, Integer, String\n",
    "from sqlalchemy.orm import declarative_base, sessionmaker\n",
    "\n",
    "# --- SQLAlchemy setup ---\n",
    "Base = declarative_base()\n",
    "engine = create_engine(\"sqlite:///example.db\", echo=True)  # replace with Postgres URI if needed\n",
    "SessionLocal = sessionmaker(bind=engine)\n",
    "\n",
    "# --- Dataclass + ORM model ---\n",
    "@dataclass\n",
    "class User(Base):\n",
    "    __tablename__ = \"users\"\n",
    "\n",
    "    # SQLAlchemy table definition\n",
    "    id: int = Column(Integer, primary_key=True, autoincrement=True)\n",
    "    name: str = Column(String(50), nullable=False)\n",
    "    email: str = Column(String(100), unique=True, nullable=False)\n",
    "\n",
    "\n",
    "# --- Create tables ---\n",
    "Base.metadata.create_all(bind=engine)\n",
    "\n",
    "\n",
    "# --- Insert data ---\n",
    "def add_user(name: str, email: str):\n",
    "    session = SessionLocal()\n",
    "    try:\n",
    "        new_user = User(name=name, email=email)\n",
    "        session.add(new_user)\n",
    "        session.commit()\n",
    "        session.refresh(new_user)  # populate generated fields like id\n",
    "        print(f\"Inserted: {new_user}\")\n",
    "        return new_user\n",
    "    finally:\n",
    "        session.close()\n",
    "\n",
    "\n",
    "# --- Example usage ---\n",
    "if __name__ == \"__main__\":\n",
    "    u1 = add_user(\"Alice\", \"alice@example.com\")\n",
    "    u2 = add_user(\"Bob\", \"bob@example.com\")"
   ]
  },
  {
   "cell_type": "code",
   "execution_count": null,
   "id": "b4ac334a",
   "metadata": {},
   "outputs": [],
   "source": []
  }
 ],
 "metadata": {
  "language_info": {
   "name": "python"
  }
 },
 "nbformat": 4,
 "nbformat_minor": 5
}
