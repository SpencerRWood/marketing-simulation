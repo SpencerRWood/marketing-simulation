{
 "cells": [
  {
   "cell_type": "code",
   "execution_count": 1,
   "id": "80c32b9a",
   "metadata": {},
   "outputs": [
    {
     "name": "stderr",
     "output_type": "stream",
     "text": [
      "2025-08-24 17:48:32,906 [INFO] example_notebook: Logger is ready to use in notebook.\n"
     ]
    }
   ],
   "source": [
    "from src.project.logging_utils import setup_logging, log_time\n",
    "import logging\n",
    "\n",
    "setup_logging(\"logs/demo.log\", enable_console=True)\n",
    "\n",
    "logger = logging.getLogger(\"example_notebook\")\n",
    "logger.info(\"Logger is ready to use in notebook.\")"
   ]
  },
  {
   "cell_type": "code",
   "execution_count": 2,
   "id": "aed5847b",
   "metadata": {},
   "outputs": [
    {
     "name": "stderr",
     "output_type": "stream",
     "text": [
      "2025-08-24 17:48:33,353 [INFO] example_notebook: risky_division executed in 0.001 seconds\n",
      "2025-08-24 17:48:33,356 [ERROR] example_notebook: Division by zero error\n",
      "Traceback (most recent call last):\n",
      "  File \"/tmp/ipykernel_8634/2594940733.py\", line 5, in risky_division\n",
      "    return a / b\n",
      "           ~~^~~\n",
      "ZeroDivisionError: division by zero\n",
      "2025-08-24 17:48:33,358 [INFO] example_notebook: risky_division executed in 0.002 seconds\n"
     ]
    }
   ],
   "source": [
    "@log_time(logger=logger)\n",
    "def risky_division(a, b):\n",
    "    logger.debug(\"Attempting division\", extra={\"a\": a, \"b\": b})\n",
    "    try:\n",
    "        return a / b\n",
    "    except ZeroDivisionError:\n",
    "        logger.exception(\"Division by zero error\")\n",
    "        return None\n",
    "\n",
    "\n",
    "risky_division(10, 2)\n",
    "risky_division(5, 0)"
   ]
  },
  {
   "cell_type": "code",
   "execution_count": null,
   "id": "55b9fb4e",
   "metadata": {},
   "outputs": [],
   "source": []
  }
 ],
 "metadata": {
  "kernelspec": {
   "display_name": "Python 3",
   "language": "python",
   "name": "python3"
  },
  "language_info": {
   "codemirror_mode": {
    "name": "ipython",
    "version": 3
   },
   "file_extension": ".py",
   "mimetype": "text/x-python",
   "name": "python",
   "nbconvert_exporter": "python",
   "pygments_lexer": "ipython3",
   "version": "3.12.11"
  }
 },
 "nbformat": 4,
 "nbformat_minor": 5
}
